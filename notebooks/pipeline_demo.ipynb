{
 "cells": [
  {
   "cell_type": "code",
   "execution_count": 1,
   "metadata": {},
   "outputs": [],
   "source": [
    "import os\n",
    "import sys\n",
    "\n",
    "current_dir = os.getcwd()\n",
    "sys.path.append(os.path.abspath(os.path.join(os.path.join(current_dir), '..', 'main')))\n",
    "\n",
    "from datasets import dataloader, process\n",
    "from feature_engineering.fe import data_preprocessing\n",
    "from algorithm import MDRSmapClassifier"
   ]
  },
  {
   "cell_type": "markdown",
   "metadata": {},
   "source": [
    "I. Load data"
   ]
  },
  {
   "cell_type": "code",
   "execution_count": 2,
   "metadata": {},
   "outputs": [],
   "source": [
    "##############################\n",
    "TICKER = 2330\n",
    "TP = 10\n",
    "START_PRED_DATE = '2023-07-01'\n",
    "BACKTRADE_END_DATE = '2023-10-31'\n",
    "##############################"
   ]
  },
  {
   "cell_type": "code",
   "execution_count": 3,
   "metadata": {},
   "outputs": [],
   "source": [
    "ticker_data = dataloader.get_ticker_data(ticker=TICKER, after_date='2020-11-17')\n",
    "ticker_data = process.processing(ticker_data)"
   ]
  },
  {
   "cell_type": "markdown",
   "metadata": {},
   "source": [
    "II. Feature enineering"
   ]
  },
  {
   "cell_type": "code",
   "execution_count": 4,
   "metadata": {},
   "outputs": [],
   "source": [
    "origi_data, Library, Prediction, actual_start_pred_date = data_preprocessing(ticker_data=ticker_data, tp=TP, start_pred_date=START_PRED_DATE)"
   ]
  },
  {
   "cell_type": "markdown",
   "metadata": {},
   "source": [
    "III. PipeLine prediction"
   ]
  },
  {
   "cell_type": "code",
   "execution_count": 5,
   "metadata": {},
   "outputs": [],
   "source": [
    "##############################\n",
    "TARGET = f'y_{TP}'\n",
    "KN = 100\n",
    "EMAX = 10\n",
    "MAXLAG = 10\n",
    "THETA_SEQ = [1,2,4,7,11,16,22]\n",
    "VALID_INTERVAL = 60\n",
    "##############################"
   ]
  },
  {
   "cell_type": "code",
   "execution_count": 6,
   "metadata": {},
   "outputs": [
    {
     "name": "stdout",
     "output_type": "stream",
     "text": [
      "optimal embedding dimenson has been found: 1\n",
      "\n",
      "now applying CCM feature selection...\n",
      "now applying Muti-view random search...\n",
      "now applying S-map...\n",
      "now applying SAGA logistic(elastic-net)...\n",
      "\n",
      "\n",
      " 2330 ACC: 0.7710843373493976\n",
      "\n"
     ]
    }
   ],
   "source": [
    "parameter = {'pred_type': 'backtrade',\n",
    "             'backtrade_end_date': BACKTRADE_END_DATE,\n",
    "             'actual_start_pred_date': actual_start_pred_date,\n",
    "             'origi_data': origi_data,\n",
    "             'Library': Library,\n",
    "             'Prediction': Prediction, \n",
    "             'target': TARGET, \n",
    "             'valid_interval': VALID_INTERVAL, \n",
    "             'tp': TP, \n",
    "             'ticker': TICKER, \n",
    "             'E_max': EMAX, \n",
    "             'max_lag': MAXLAG, \n",
    "             'kn': KN, \n",
    "             'theta_seq': THETA_SEQ}\n",
    "\n",
    "result = MDRSmapClassifier.pipeline(**parameter)"
   ]
  },
  {
   "cell_type": "code",
   "execution_count": 7,
   "metadata": {},
   "outputs": [
    {
     "data": {
      "text/html": [
       "<div>\n",
       "<style scoped>\n",
       "    .dataframe tbody tr th:only-of-type {\n",
       "        vertical-align: middle;\n",
       "    }\n",
       "\n",
       "    .dataframe tbody tr th {\n",
       "        vertical-align: top;\n",
       "    }\n",
       "\n",
       "    .dataframe thead th {\n",
       "        text-align: right;\n",
       "    }\n",
       "</style>\n",
       "<table border=\"1\" class=\"dataframe\">\n",
       "  <thead>\n",
       "    <tr style=\"text-align: right;\">\n",
       "      <th></th>\n",
       "      <th>Date</th>\n",
       "      <th>Observations</th>\n",
       "      <th>Predictions</th>\n",
       "    </tr>\n",
       "  </thead>\n",
       "  <tbody>\n",
       "    <tr>\n",
       "      <th>0</th>\n",
       "      <td>2023-07-03</td>\n",
       "      <td>0</td>\n",
       "      <td>0.0</td>\n",
       "    </tr>\n",
       "    <tr>\n",
       "      <th>1</th>\n",
       "      <td>2023-07-04</td>\n",
       "      <td>0</td>\n",
       "      <td>0.0</td>\n",
       "    </tr>\n",
       "    <tr>\n",
       "      <th>2</th>\n",
       "      <td>2023-07-05</td>\n",
       "      <td>0</td>\n",
       "      <td>0.0</td>\n",
       "    </tr>\n",
       "    <tr>\n",
       "      <th>3</th>\n",
       "      <td>2023-07-06</td>\n",
       "      <td>1</td>\n",
       "      <td>0.0</td>\n",
       "    </tr>\n",
       "    <tr>\n",
       "      <th>4</th>\n",
       "      <td>2023-07-07</td>\n",
       "      <td>1</td>\n",
       "      <td>0.0</td>\n",
       "    </tr>\n",
       "    <tr>\n",
       "      <th>...</th>\n",
       "      <td>...</td>\n",
       "      <td>...</td>\n",
       "      <td>...</td>\n",
       "    </tr>\n",
       "    <tr>\n",
       "      <th>78</th>\n",
       "      <td>2023-10-25</td>\n",
       "      <td>0</td>\n",
       "      <td>0.0</td>\n",
       "    </tr>\n",
       "    <tr>\n",
       "      <th>79</th>\n",
       "      <td>2023-10-26</td>\n",
       "      <td>1</td>\n",
       "      <td>0.0</td>\n",
       "    </tr>\n",
       "    <tr>\n",
       "      <th>80</th>\n",
       "      <td>2023-10-27</td>\n",
       "      <td>1</td>\n",
       "      <td>0.0</td>\n",
       "    </tr>\n",
       "    <tr>\n",
       "      <th>81</th>\n",
       "      <td>2023-10-30</td>\n",
       "      <td>1</td>\n",
       "      <td>0.0</td>\n",
       "    </tr>\n",
       "    <tr>\n",
       "      <th>82</th>\n",
       "      <td>2023-10-31</td>\n",
       "      <td>1</td>\n",
       "      <td>0.0</td>\n",
       "    </tr>\n",
       "  </tbody>\n",
       "</table>\n",
       "<p>83 rows × 3 columns</p>\n",
       "</div>"
      ],
      "text/plain": [
       "         Date  Observations Predictions\n",
       "0  2023-07-03             0         0.0\n",
       "1  2023-07-04             0         0.0\n",
       "2  2023-07-05             0         0.0\n",
       "3  2023-07-06             1         0.0\n",
       "4  2023-07-07             1         0.0\n",
       "..        ...           ...         ...\n",
       "78 2023-10-25             0         0.0\n",
       "79 2023-10-26             1         0.0\n",
       "80 2023-10-27             1         0.0\n",
       "81 2023-10-30             1         0.0\n",
       "82 2023-10-31             1         0.0\n",
       "\n",
       "[83 rows x 3 columns]"
      ]
     },
     "execution_count": 7,
     "metadata": {},
     "output_type": "execute_result"
    }
   ],
   "source": [
    "result"
   ]
  }
 ],
 "metadata": {
  "kernelspec": {
   "display_name": "env1",
   "language": "python",
   "name": "python3"
  },
  "language_info": {
   "codemirror_mode": {
    "name": "ipython",
    "version": 3
   },
   "file_extension": ".py",
   "mimetype": "text/x-python",
   "name": "python",
   "nbconvert_exporter": "python",
   "pygments_lexer": "ipython3",
   "version": "3.9.18"
  },
  "orig_nbformat": 4
 },
 "nbformat": 4,
 "nbformat_minor": 2
}
