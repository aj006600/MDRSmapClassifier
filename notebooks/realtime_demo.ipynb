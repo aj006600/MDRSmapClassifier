{
 "cells": [
  {
   "cell_type": "code",
   "execution_count": 1,
   "metadata": {},
   "outputs": [],
   "source": [
    "import os\n",
    "import sys\n",
    "import pandas as pd\n",
    "\n",
    "current_dir = os.getcwd()\n",
    "sys.path.append(os.path.abspath(os.path.join(os.path.join(current_dir), '..', 'main')))\n",
    "\n",
    "from datasets import dataloader, process\n",
    "from feature_engineering.fe import data_preprocessing\n",
    "from algorithm import MDRSmapClassifier"
   ]
  },
  {
   "cell_type": "markdown",
   "metadata": {},
   "source": [
    "I. Load data"
   ]
  },
  {
   "cell_type": "code",
   "execution_count": 2,
   "metadata": {},
   "outputs": [],
   "source": [
    "##############################\n",
    "TICKER = 2330\n",
    "TP = 10\n",
    "START_PRED_DATE = '2023-07-01'\n",
    "BACKTRADE_END_DATE = '2023-10-31'\n",
    "##############################"
   ]
  },
  {
   "cell_type": "code",
   "execution_count": 3,
   "metadata": {},
   "outputs": [],
   "source": [
    "ticker_data = dataloader.get_ticker_data(ticker=TICKER, after_date='2020-11-17')\n",
    "ticker_data = process.processing(ticker_data)"
   ]
  },
  {
   "cell_type": "markdown",
   "metadata": {},
   "source": [
    "II. Feature enineering"
   ]
  },
  {
   "cell_type": "code",
   "execution_count": 4,
   "metadata": {},
   "outputs": [],
   "source": [
    "_, Library, Prediction, actual_start_pred_date = data_preprocessing(ticker_data=ticker_data, TP=TP, start_pred_date=START_PRED_DATE)"
   ]
  },
  {
   "cell_type": "code",
   "execution_count": 5,
   "metadata": {},
   "outputs": [
    {
     "data": {
      "text/html": [
       "<div>\n",
       "<style scoped>\n",
       "    .dataframe tbody tr th:only-of-type {\n",
       "        vertical-align: middle;\n",
       "    }\n",
       "\n",
       "    .dataframe tbody tr th {\n",
       "        vertical-align: top;\n",
       "    }\n",
       "\n",
       "    .dataframe thead th {\n",
       "        text-align: right;\n",
       "    }\n",
       "</style>\n",
       "<table border=\"1\" class=\"dataframe\">\n",
       "  <thead>\n",
       "    <tr style=\"text-align: right;\">\n",
       "      <th></th>\n",
       "      <th>Date</th>\n",
       "      <th>open</th>\n",
       "      <th>high</th>\n",
       "      <th>low</th>\n",
       "      <th>close</th>\n",
       "      <th>volume</th>\n",
       "      <th>financing</th>\n",
       "      <th>fi</th>\n",
       "      <th>ii</th>\n",
       "      <th>di</th>\n",
       "      <th>rp</th>\n",
       "      <th>capital</th>\n",
       "      <th>EMA9</th>\n",
       "      <th>EMA12</th>\n",
       "      <th>EMA26</th>\n",
       "      <th>MACD</th>\n",
       "      <th>Signal</th>\n",
       "      <th>RSI14</th>\n",
       "      <th>y_10</th>\n",
       "    </tr>\n",
       "  </thead>\n",
       "  <tbody>\n",
       "    <tr>\n",
       "      <th>593</th>\n",
       "      <td>2023-07-03</td>\n",
       "      <td>578.0</td>\n",
       "      <td>580.0</td>\n",
       "      <td>576.0</td>\n",
       "      <td>579.0</td>\n",
       "      <td>15118</td>\n",
       "      <td>97.0</td>\n",
       "      <td>2353.0</td>\n",
       "      <td>-305.0</td>\n",
       "      <td>1401</td>\n",
       "      <td>582</td>\n",
       "      <td>2.5477</td>\n",
       "      <td>576.701182</td>\n",
       "      <td>575.940219</td>\n",
       "      <td>566.756798</td>\n",
       "      <td>9.183421</td>\n",
       "      <td>11.833896</td>\n",
       "      <td>33.311646</td>\n",
       "      <td>0.0</td>\n",
       "    </tr>\n",
       "  </tbody>\n",
       "</table>\n",
       "</div>"
      ],
      "text/plain": [
       "           Date   open   high    low  close volume financing      fi     ii  \\\n",
       "593  2023-07-03  578.0  580.0  576.0  579.0  15118      97.0  2353.0 -305.0   \n",
       "\n",
       "       di   rp capital        EMA9       EMA12       EMA26      MACD  \\\n",
       "593  1401  582  2.5477  576.701182  575.940219  566.756798  9.183421   \n",
       "\n",
       "        Signal      RSI14 y_10  \n",
       "593  11.833896  33.311646  0.0  "
      ]
     },
     "execution_count": 5,
     "metadata": {},
     "output_type": "execute_result"
    }
   ],
   "source": [
    "Pred_1 = Prediction.iloc[0,:].to_frame().T\n",
    "Pred_1['Date'] = pd.to_datetime(Pred_1['Date'])\n",
    "Pred_1['Date'] = Pred_1['Date'].dt.strftime('%Y-%m-%d')\n",
    "Pred_1"
   ]
  },
  {
   "cell_type": "code",
   "execution_count": 6,
   "metadata": {},
   "outputs": [
    {
     "data": {
      "text/html": [
       "<div>\n",
       "<style scoped>\n",
       "    .dataframe tbody tr th:only-of-type {\n",
       "        vertical-align: middle;\n",
       "    }\n",
       "\n",
       "    .dataframe tbody tr th {\n",
       "        vertical-align: top;\n",
       "    }\n",
       "\n",
       "    .dataframe thead th {\n",
       "        text-align: right;\n",
       "    }\n",
       "</style>\n",
       "<table border=\"1\" class=\"dataframe\">\n",
       "  <thead>\n",
       "    <tr style=\"text-align: right;\">\n",
       "      <th></th>\n",
       "      <th>Date</th>\n",
       "      <th>open</th>\n",
       "      <th>high</th>\n",
       "      <th>low</th>\n",
       "      <th>close</th>\n",
       "      <th>volume</th>\n",
       "      <th>financing</th>\n",
       "      <th>fi</th>\n",
       "      <th>ii</th>\n",
       "      <th>di</th>\n",
       "      <th>rp</th>\n",
       "      <th>capital</th>\n",
       "      <th>EMA9</th>\n",
       "      <th>EMA12</th>\n",
       "      <th>EMA26</th>\n",
       "      <th>MACD</th>\n",
       "      <th>Signal</th>\n",
       "      <th>RSI14</th>\n",
       "      <th>y_10</th>\n",
       "    </tr>\n",
       "  </thead>\n",
       "  <tbody>\n",
       "    <tr>\n",
       "      <th>594</th>\n",
       "      <td>2023-07-04</td>\n",
       "      <td>585.0</td>\n",
       "      <td>585.0</td>\n",
       "      <td>580.0</td>\n",
       "      <td>585.0</td>\n",
       "      <td>17777</td>\n",
       "      <td>84.0</td>\n",
       "      <td>4805.0</td>\n",
       "      <td>-1348.0</td>\n",
       "      <td>-13</td>\n",
       "      <td>1767</td>\n",
       "      <td>2.7068</td>\n",
       "      <td>578.360946</td>\n",
       "      <td>577.334031</td>\n",
       "      <td>568.108146</td>\n",
       "      <td>9.225886</td>\n",
       "      <td>11.312294</td>\n",
       "      <td>30.627646</td>\n",
       "      <td>0.0</td>\n",
       "    </tr>\n",
       "  </tbody>\n",
       "</table>\n",
       "</div>"
      ],
      "text/plain": [
       "           Date   open   high    low  close volume financing      fi      ii  \\\n",
       "594  2023-07-04  585.0  585.0  580.0  585.0  17777      84.0  4805.0 -1348.0   \n",
       "\n",
       "      di    rp capital        EMA9       EMA12       EMA26      MACD  \\\n",
       "594  -13  1767  2.7068  578.360946  577.334031  568.108146  9.225886   \n",
       "\n",
       "        Signal      RSI14 y_10  \n",
       "594  11.312294  30.627646  0.0  "
      ]
     },
     "execution_count": 6,
     "metadata": {},
     "output_type": "execute_result"
    }
   ],
   "source": [
    "Pred_2 = Prediction.iloc[1,:].to_frame().T\n",
    "Pred_2['Date'] = pd.to_datetime(Pred_2['Date'])\n",
    "Pred_2['Date'] = Pred_2['Date'].dt.strftime('%Y-%m-%d')\n",
    "Pred_2"
   ]
  },
  {
   "cell_type": "code",
   "execution_count": 7,
   "metadata": {},
   "outputs": [
    {
     "data": {
      "text/html": [
       "<div>\n",
       "<style scoped>\n",
       "    .dataframe tbody tr th:only-of-type {\n",
       "        vertical-align: middle;\n",
       "    }\n",
       "\n",
       "    .dataframe tbody tr th {\n",
       "        vertical-align: top;\n",
       "    }\n",
       "\n",
       "    .dataframe thead th {\n",
       "        text-align: right;\n",
       "    }\n",
       "</style>\n",
       "<table border=\"1\" class=\"dataframe\">\n",
       "  <thead>\n",
       "    <tr style=\"text-align: right;\">\n",
       "      <th></th>\n",
       "      <th>Date</th>\n",
       "      <th>open</th>\n",
       "      <th>high</th>\n",
       "      <th>low</th>\n",
       "      <th>close</th>\n",
       "      <th>volume</th>\n",
       "      <th>financing</th>\n",
       "      <th>fi</th>\n",
       "      <th>ii</th>\n",
       "      <th>di</th>\n",
       "      <th>rp</th>\n",
       "      <th>capital</th>\n",
       "      <th>EMA9</th>\n",
       "      <th>EMA12</th>\n",
       "      <th>EMA26</th>\n",
       "      <th>MACD</th>\n",
       "      <th>Signal</th>\n",
       "      <th>RSI14</th>\n",
       "      <th>y_10</th>\n",
       "    </tr>\n",
       "  </thead>\n",
       "  <tbody>\n",
       "    <tr>\n",
       "      <th>595</th>\n",
       "      <td>2023-07-05</td>\n",
       "      <td>589.0</td>\n",
       "      <td>589.0</td>\n",
       "      <td>579.0</td>\n",
       "      <td>582.0</td>\n",
       "      <td>15554</td>\n",
       "      <td>-50.0</td>\n",
       "      <td>-890.0</td>\n",
       "      <td>-503.0</td>\n",
       "      <td>-1092</td>\n",
       "      <td>-790</td>\n",
       "      <td>2.6473</td>\n",
       "      <td>579.088757</td>\n",
       "      <td>578.051873</td>\n",
       "      <td>569.137172</td>\n",
       "      <td>8.914701</td>\n",
       "      <td>10.832775</td>\n",
       "      <td>17.707207</td>\n",
       "      <td>0.0</td>\n",
       "    </tr>\n",
       "  </tbody>\n",
       "</table>\n",
       "</div>"
      ],
      "text/plain": [
       "           Date   open   high    low  close volume financing     fi     ii  \\\n",
       "595  2023-07-05  589.0  589.0  579.0  582.0  15554     -50.0 -890.0 -503.0   \n",
       "\n",
       "        di    rp capital        EMA9       EMA12       EMA26      MACD  \\\n",
       "595  -1092  -790  2.6473  579.088757  578.051873  569.137172  8.914701   \n",
       "\n",
       "        Signal      RSI14 y_10  \n",
       "595  10.832775  17.707207  0.0  "
      ]
     },
     "execution_count": 7,
     "metadata": {},
     "output_type": "execute_result"
    }
   ],
   "source": [
    "Pred_3 = Prediction.iloc[2,:].to_frame().T\n",
    "Pred_3['Date'] = pd.to_datetime(Pred_3['Date'])\n",
    "Pred_3['Date'] = Pred_3['Date'].dt.strftime('%Y-%m-%d')\n",
    "Pred_3"
   ]
  },
  {
   "cell_type": "markdown",
   "metadata": {},
   "source": [
    "III. Realtime prediction"
   ]
  },
  {
   "cell_type": "code",
   "execution_count": 8,
   "metadata": {},
   "outputs": [],
   "source": [
    "##############################\n",
    "TARGET = f'y_{TP}'\n",
    "KN = 100\n",
    "EMAX = 10\n",
    "MAXLAG = 10\n",
    "THETA_SEQ = [1,2,4,7,11,16,22]\n",
    "VALID_INTERVAL = 60\n",
    "##############################"
   ]
  },
  {
   "cell_type": "code",
   "execution_count": 9,
   "metadata": {},
   "outputs": [
    {
     "name": "stdout",
     "output_type": "stream",
     "text": [
      "optimal embedding dimenson has been found: 1\n",
      "\n",
      "now applying CCM feature selection...\n",
      "now applying Muti-view random search...\n",
      "now applying S-map...\n",
      "now applying SAGA logistic(elastic-net)...\n",
      "\n",
      "prediction: 0.0\n",
      "Parameters saved to /Users/yitsung/Desktop/MDRSmapClassifier/main/algorithm/../models/2330_10_param.pkl\n"
     ]
    }
   ],
   "source": [
    "parameter = {'Library': Library,\n",
    "             'Prediction': Pred_1,\n",
    "             'target': TARGET, \n",
    "             'valid_interval': VALID_INTERVAL, \n",
    "             'tp': TP, \n",
    "             'ticker': TICKER, \n",
    "             'E_max': EMAX, \n",
    "             'max_lag': MAXLAG, \n",
    "             'kn': KN, \n",
    "             'theta_seq': THETA_SEQ}\n",
    "\n",
    "y_pred, param_dir, EDM_result = MDRSmapClassifier.realtime_train(**parameter)"
   ]
  },
  {
   "cell_type": "code",
   "execution_count": 10,
   "metadata": {},
   "outputs": [
    {
     "name": "stdout",
     "output_type": "stream",
     "text": [
      "Parameter loaded from /Users/yitsung/Desktop/MDRSmapClassifier/main/algorithm/../models/2330_10_param.pkl\n",
      "prediction: 0.0\n"
     ]
    }
   ],
   "source": [
    "pred_parameter = {'Prediction': Pred_2,\n",
    "                  'file_dir': param_dir,\n",
    "                  'Library': Library,\n",
    "                  'EDM_result': EDM_result,\n",
    "                  'target': TARGET, \n",
    "                  'tp': TP, \n",
    "                  'max_lag': MAXLAG}\n",
    "\n",
    "y_pred = MDRSmapClassifier.realtime_pred(**pred_parameter)"
   ]
  }
 ],
 "metadata": {
  "kernelspec": {
   "display_name": "env1",
   "language": "python",
   "name": "python3"
  },
  "language_info": {
   "codemirror_mode": {
    "name": "ipython",
    "version": 3
   },
   "file_extension": ".py",
   "mimetype": "text/x-python",
   "name": "python",
   "nbconvert_exporter": "python",
   "pygments_lexer": "ipython3",
   "version": "3.9.18"
  },
  "orig_nbformat": 4
 },
 "nbformat": 4,
 "nbformat_minor": 2
}
