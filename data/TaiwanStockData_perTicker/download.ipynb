{
 "cells": [
  {
   "cell_type": "markdown",
   "metadata": {},
   "source": [
    "使用前要先開啟XQ DDE"
   ]
  },
  {
   "cell_type": "code",
   "execution_count": 1,
   "metadata": {},
   "outputs": [],
   "source": [
    "import xlwings as xw\n",
    "import time\n",
    "import pandas as pd"
   ]
  },
  {
   "cell_type": "code",
   "execution_count": null,
   "metadata": {},
   "outputs": [],
   "source": [
    "# try:\n",
    "#     print(\"successfully.\")\n",
    "\n",
    "# except Exception as e:\n",
    "#     print(f\"An error occurred: {e}\")"
   ]
  },
  {
   "cell_type": "code",
   "execution_count": 2,
   "metadata": {},
   "outputs": [],
   "source": [
    "columns = [['交易日期', '開盤', '最高', '最低', '收盤', \n",
    "           '成交量', '還原開盤', '還原最高', '還原最低', '還原收盤',\n",
    "           '融資', '融券', '當日沖銷', '外資餘額', '外資買賣超', \n",
    "           '投信餘額', '投信買賣超', '自營商餘額', '自營商買賣超', '法人餘額', \n",
    "           '法人買賣超', '主力買賣超', '內盤量', '外盤量', '內盤均量', \n",
    "           '外盤均量', '開盤委買量', '開盤委賣量', '資金流向', '實質買盤', \n",
    "           '實質賣盤']]"
   ]
  },
  {
   "cell_type": "code",
   "execution_count": 6,
   "metadata": {},
   "outputs": [
    {
     "data": {
      "text/plain": [
       "0      1264\n",
       "1      1796\n",
       "2      4205\n",
       "3      4207\n",
       "4      4712\n",
       "       ... \n",
       "807    9949\n",
       "808    1240\n",
       "809    4171\n",
       "810    6508\n",
       "811    6578\n",
       "Name: 代碼, Length: 812, dtype: int64"
      ]
     },
     "execution_count": 6,
     "metadata": {},
     "output_type": "execute_result"
    }
   ],
   "source": [
    "# load the stock index\n",
    "df = pd.read_excel('C:/Users/User/Desktop/taiwan_stock_data_231206/stock_table/OTC_stock/上櫃普通股全部.xlsx')\n",
    "stock_numbers = df['代碼']\n",
    "stock_numbers"
   ]
  },
  {
   "cell_type": "code",
   "execution_count": 5,
   "metadata": {},
   "outputs": [],
   "source": [
    "# stock_numbers = ['OTC']\n",
    "\n",
    "wb_dde = xw.Book('download.xlsx')\n",
    "sheet = wb_dde.sheets['工作表1']\n",
    "sheet.range('A1').value = columns\n",
    "\n",
    "for stock in stock_numbers:\n",
    "\n",
    "    # load XQKine data\n",
    "    Kline_formula = f'=XQLite|Kline!\\'{stock}.TW-Day-1001\\''\n",
    "    sheet.range('A2:F1002').formula_array = Kline_formula\n",
    "    time.sleep(6)\n",
    "    # load XQHist data\n",
    "    hist_formula = f'=XQLite|Hist!\\'{stock}.tw-day-1001-F005,F006,F007,F008,F012,F013,F014,F015,F016,F017,F018,F019,F020,F021,F022,F024,F025,F026,F027,F028,F029,F030,F033,F034,F035\\''\n",
    "    sheet.range('G2:AE1002').formula_array = hist_formula\n",
    "    time.sleep(6)\n",
    "    # copy the loaded data\n",
    "    column_copy = sheet.range('A1:AE1').value\n",
    "    data_copy = sheet.range('A2:AE1002').value\n",
    "    # open new workbook to save the data\n",
    "    wb_new = xw.books.add()\n",
    "    sheet_new = wb_new.sheets['工作表1']\n",
    "    sheet_new.range('A1:AE1').value = column_copy\n",
    "    sheet_new.range('A2:AE1002').value = data_copy\n",
    "    # save to another new file\n",
    "    new_file_path = f'C:/Users/User/Desktop/taiwan_stock_data_231206/data/{stock}.xlsx'\n",
    "    wb_new.save(new_file_path)\n",
    "    wb_new.close()"
   ]
  }
 ],
 "metadata": {
  "kernelspec": {
   "display_name": "ENV1",
   "language": "python",
   "name": "python3"
  },
  "language_info": {
   "codemirror_mode": {
    "name": "ipython",
    "version": 3
   },
   "file_extension": ".py",
   "mimetype": "text/x-python",
   "name": "python",
   "nbconvert_exporter": "python",
   "pygments_lexer": "ipython3",
   "version": "3.9.17"
  }
 },
 "nbformat": 4,
 "nbformat_minor": 2
}
